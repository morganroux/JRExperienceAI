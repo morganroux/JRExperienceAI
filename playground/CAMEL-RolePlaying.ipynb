{
 "cells": [
  {
   "cell_type": "code",
   "execution_count": null,
   "metadata": {},
   "outputs": [],
   "source": [
    "from typing import List\n",
    "from langchain.chat_models import ChatOpenAI\n",
    "from langchain.prompts.chat import (\n",
    "    SystemMessagePromptTemplate,\n",
    "    HumanMessagePromptTemplate,\n",
    ")\n",
    "from langchain.schema import (\n",
    "    AIMessage,\n",
    "    HumanMessage,\n",
    "    SystemMessage,\n",
    "    BaseMessage,\n",
    ")\n",
    "from dotenv import load_dotenv\n",
    "import os"
   ]
  },
  {
   "cell_type": "code",
   "execution_count": null,
   "metadata": {},
   "outputs": [],
   "source": [
    "class CAMELAgent:\n",
    "    def __init__(\n",
    "        self,\n",
    "        system_message: SystemMessage,\n",
    "        model: ChatOpenAI,\n",
    "    ) -> None:\n",
    "        self.system_message = system_message\n",
    "        self.model = model\n",
    "        self.init_messages()\n",
    "\n",
    "    def reset(self) -> None:\n",
    "        self.init_messages()\n",
    "        return self.stored_messages\n",
    "\n",
    "    def init_messages(self) -> None:\n",
    "        self.stored_messages = [self.system_message]\n",
    "\n",
    "    def update_messages(self, message: BaseMessage) -> List[BaseMessage]:\n",
    "        self.stored_messages.append(message)\n",
    "        return self.stored_messages\n",
    "\n",
    "    def step(\n",
    "        self,\n",
    "        input_message: HumanMessage,\n",
    "    ) -> AIMessage:\n",
    "        messages = self.update_messages(input_message)\n",
    "\n",
    "        output_message = self.model(messages)\n",
    "        self.update_messages(output_message)\n",
    "\n",
    "        return output_message"
   ]
  },
  {
   "cell_type": "code",
   "execution_count": null,
   "metadata": {},
   "outputs": [],
   "source": [
    "\n",
    "\n",
    "load_dotenv()\n",
    "OPENAI_API_KEY = os.getenv(\"OPENAI_API_KEY\")\n",
    "\n",
    "assistant_role_name = \"Joe Roegan\"\n",
    "user_role_name = \"Sam Altman\""
   ]
  },
  {
   "cell_type": "code",
   "execution_count": null,
   "metadata": {},
   "outputs": [],
   "source": [
    "assistant_inception_prompt = \"\"\"Never forget you're {assistant_role_name}. Never flip roles! \n",
    "\n",
    "\n",
    "This is the situation :\n",
    "  - I'm {user_role_name} and you're interviewing me for your podcast\n",
    "  - this interview is very important for you, you don't have to mess things up.\n",
    "  - there is a director called Director who will give you some instructions sometimes.\n",
    "\n",
    "This is the way you have to behave : \n",
    "  - say 'damn' sometimes when you speak\n",
    "  - Never call {user_role_name} by his name ! this is really important ! \n",
    "\n",
    "Do not change roles!\n",
    "Do not speak from the perspective of {user_role_name} or from the perspective of the director\n",
    "Stop speaking the moment you finish speaking from your perspective.\n",
    "\"\"\"\n",
    "\n",
    "user_inception_prompt = \"\"\"Nerver forget you're {user_role_name}, the famous artist. Never flip roles! \n",
    "\n",
    "This is the way you have to behave : \n",
    "  - You say 'man' a lot of times when you speaking to someone.\n",
    "\n",
    "This is the situation : \n",
    "  - I'm {assistant_role_name} and I'm interviewing you for my podcast.\n",
    "  - you're here because you're manager wanted it. You don't like me, but you cannot say it to me.\n",
    "  - instead of being agressive, you'll mispell my name by calling me 'Jay' sometimes instead of 'Joe'. If I corrects you, you will say sorry, but continue to mispell my name. \n",
    "\n",
    "Do not change roles!\n",
    "Do not speak from the perspective of {assistant_role_name} or from the perspective of the director\n",
    "Stop speaking the moment you finish speaking from your perspective.\n",
    "\"\"\""
   ]
  },
  {
   "cell_type": "code",
   "execution_count": null,
   "metadata": {},
   "outputs": [],
   "source": [
    "def get_sys_msgs(assistant_role_name: str, user_role_name: str):\n",
    "    assistant_sys_template = SystemMessagePromptTemplate.from_template(\n",
    "        template=assistant_inception_prompt\n",
    "    )\n",
    "    assistant_sys_msg = assistant_sys_template.format_messages(\n",
    "        assistant_role_name=assistant_role_name,\n",
    "        user_role_name=user_role_name,\n",
    "    )[0]\n",
    "\n",
    "    user_sys_template = SystemMessagePromptTemplate.from_template(\n",
    "        template=user_inception_prompt\n",
    "    )\n",
    "    user_sys_msg = user_sys_template.format_messages(\n",
    "        assistant_role_name=assistant_role_name,\n",
    "        user_role_name=user_role_name,\n",
    "    )[0]\n",
    "\n",
    "    return assistant_sys_msg, user_sys_msg"
   ]
  },
  {
   "cell_type": "code",
   "execution_count": null,
   "metadata": {},
   "outputs": [],
   "source": [
    "assistant_sys_msg, user_sys_msg = get_sys_msgs(\n",
    "    assistant_role_name, user_role_name\n",
    ")\n",
    "assistant_agent = CAMELAgent(assistant_sys_msg, ChatOpenAI(openai_api_key=OPENAI_API_KEY, temperature=0.2))\n",
    "user_agent = CAMELAgent(user_sys_msg, ChatOpenAI(openai_api_key=OPENAI_API_KEY, temperature=0.2))"
   ]
  },
  {
   "cell_type": "code",
   "execution_count": null,
   "metadata": {},
   "outputs": [],
   "source": [
    "\n",
    "\n",
    "# Reset agents\n",
    "assistant_agent.reset()\n",
    "user_agent.reset()\n",
    "\n"
   ]
  },
  {
   "cell_type": "code",
   "execution_count": null,
   "metadata": {},
   "outputs": [],
   "source": [
    "chat_turn_limit, n = 30, 0\n",
    "conversation=[]\n"
   ]
  },
  {
   "cell_type": "code",
   "execution_count": null,
   "metadata": {},
   "outputs": [],
   "source": [
    "director_msg = HumanMessage(\n",
    "    content=f\"Director instruction : start with a warm welcome !\")\n",
    "assistant_msg = assistant_agent.step(director_msg)\n",
    "\n",
    "transcript = f\"{assistant_role_name}:\\n\\n{assistant_msg.content}\\n\\n\"\n",
    "print(transcript)\n",
    "conversation.append(transcript)"
   ]
  },
  {
   "cell_type": "code",
   "execution_count": null,
   "metadata": {},
   "outputs": [],
   "source": [
    "\n",
    "# n += 1\n",
    "user_ai_msg = user_agent.step(assistant_msg)\n",
    "user_msg = HumanMessage(content=user_ai_msg.content)\n",
    "transcript = f\"{user_role_name}:\\n\\n{user_msg.content}\\n\\n\"\n",
    "print(transcript)\n",
    "conversation.append(transcript)\n",
    "\n",
    "\n",
    "assistant_ai_msg = assistant_agent.step(user_msg)\n",
    "assistant_msg = HumanMessage(content=assistant_ai_msg.content)\n",
    "transcript = f\"{assistant_role_name}:\\n\\n{assistant_msg.content}\\n\\n\"\n",
    "print(transcript)\n",
    "conversation.append(transcript)"
   ]
  },
  {
   "cell_type": "code",
   "execution_count": null,
   "metadata": {},
   "outputs": [],
   "source": [
    "director_msg = HumanMessage(\n",
    "    content=f\"Director instruction : you're talking too much ! be shorter\")\n",
    "assistant_msg = assistant_agent.step(director_msg)\n",
    "\n",
    "transcript = f\"{assistant_role_name}:\\n\\n{assistant_msg.content}\\n\\n\"\n",
    "print(transcript)\n",
    "conversation.append(transcript)"
   ]
  },
  {
   "cell_type": "code",
   "execution_count": null,
   "metadata": {},
   "outputs": [],
   "source": [
    "assistant_agent.stored_messages"
   ]
  }
 ],
 "metadata": {
  "kernelspec": {
   "display_name": ".venv",
   "language": "python",
   "name": "python3"
  },
  "language_info": {
   "codemirror_mode": {
    "name": "ipython",
    "version": 3
   },
   "file_extension": ".py",
   "mimetype": "text/x-python",
   "name": "python",
   "nbconvert_exporter": "python",
   "pygments_lexer": "ipython3",
   "version": "3.11.3"
  },
  "orig_nbformat": 4
 },
 "nbformat": 4,
 "nbformat_minor": 2
}
