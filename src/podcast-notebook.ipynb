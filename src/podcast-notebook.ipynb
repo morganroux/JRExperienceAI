{
 "cells": [
  {
   "cell_type": "code",
   "execution_count": null,
   "metadata": {},
   "outputs": [],
   "source": [
    "from typing import List\n",
    "from langchain.chat_models import ChatOpenAI\n",
    "from langchain.schema import (\n",
    "    HumanMessage,\n",
    ")\n",
    "from dotenv import load_dotenv\n",
    "import os\n",
    "from agent import CAMELAgent, get_sys_msgs"
   ]
  },
  {
   "cell_type": "code",
   "execution_count": null,
   "metadata": {},
   "outputs": [],
   "source": [
    "\n",
    "load_dotenv()\n",
    "OPENAI_API_KEY = os.getenv(\"OPENAI_API_KEY\")\n",
    "model_version = \"gpt-3.5-turbo\" #gpt-4\n",
    "interviewer = \"Joe Roegan\"\n",
    "interviewee = \"Sam Altman\""
   ]
  },
  {
   "attachments": {},
   "cell_type": "markdown",
   "metadata": {},
   "source": [
    "## Init agents"
   ]
  },
  {
   "cell_type": "code",
   "execution_count": null,
   "metadata": {},
   "outputs": [],
   "source": [
    "interviewer_sys_msg, interviewee_sys_msg = get_sys_msgs(\n",
    "    interviewer, interviewee\n",
    ")\n",
    "interviewer_agent = CAMELAgent(interviewer_sys_msg, ChatOpenAI(openai_api_key=OPENAI_API_KEY, temperature=0.2, model=model_version))\n",
    "interviewee_agent = CAMELAgent(interviewee_sys_msg, ChatOpenAI(openai_api_key=OPENAI_API_KEY, temperature=0.2, model=model_version))\n",
    "\n",
    "interviewer_agent.reset()\n",
    "interviewee_agent.reset()\n",
    "\n",
    "conversation=[]\n",
    "interviewee_msg = \"\"\n",
    "interviewer_msg = \"\""
   ]
  },
  {
   "cell_type": "code",
   "execution_count": null,
   "metadata": {},
   "outputs": [],
   "source": [
    "# director_msg = HumanMessage(\n",
    "#     content=f\"Director instruction : start with a warm welcome !\")\n",
    "# interviewer_msg = interviewer_agent.step(director_msg)\n",
    "\n",
    "# transcript = f\"{interviewer}:\\n\\n{interviewer_msg.content}\\n\\n\"\n",
    "# print(transcript)\n",
    "# conversation.append(transcript)\n",
    "\n",
    "# interviewee_msg = \"\"\n",
    "# interviewer_msg = \"\""
   ]
  },
  {
   "attachments": {},
   "cell_type": "markdown",
   "metadata": {},
   "source": [
    "## Generation loop : run to generate a Q&A step"
   ]
  },
  {
   "cell_type": "code",
   "execution_count": null,
   "metadata": {},
   "outputs": [],
   "source": [
    "\n",
    "\n",
    "step_msg = interviewer_agent.step(interviewee_msg)\n",
    "interviewer_msg = HumanMessage(content=step_msg.content)\n",
    "transcript = f\"{interviewer}:\\n\\n{interviewer_msg.content}\\n\\n\"\n",
    "print(transcript)\n",
    "conversation.append(transcript)\n",
    "\n",
    "\n",
    "step_msg = interviewee_agent.step(interviewer_msg)\n",
    "interviewee_msg = HumanMessage(content=step_msg.content)\n",
    "transcript = f\"{interviewee}:\\n\\n{interviewee_msg.content}\\n\\n\"\n",
    "print(transcript)\n",
    "conversation.append(transcript)"
   ]
  },
  {
   "cell_type": "code",
   "execution_count": null,
   "metadata": {},
   "outputs": [],
   "source": [
    "director_msg = HumanMessage(\n",
    "    content=f\"Director instruction : you're talking too much ! be shorter\")\n",
    "interviewer_msg = interviewer_agent.step(director_msg)\n",
    "\n",
    "transcript = f\"{interviewer}:\\n\\n{interviewer_msg.content}\\n\\n\"\n",
    "print(transcript)\n",
    "conversation.append(transcript)"
   ]
  },
  {
   "cell_type": "code",
   "execution_count": null,
   "metadata": {},
   "outputs": [],
   "source": [
    "interviewer_agent.stored_messages"
   ]
  }
 ],
 "metadata": {
  "kernelspec": {
   "display_name": ".venv",
   "language": "python",
   "name": "python3"
  },
  "language_info": {
   "codemirror_mode": {
    "name": "ipython",
    "version": 3
   },
   "file_extension": ".py",
   "mimetype": "text/x-python",
   "name": "python",
   "nbconvert_exporter": "python",
   "pygments_lexer": "ipython3",
   "version": "3.11.3"
  },
  "orig_nbformat": 4
 },
 "nbformat": 4,
 "nbformat_minor": 2
}
