{
 "cells": [
  {
   "cell_type": "code",
   "execution_count": 10,
   "metadata": {},
   "outputs": [],
   "source": [
    "from typing import List\n",
    "from langchain.chat_models import ChatOpenAI\n",
    "from langchain.prompts.chat import (\n",
    "    SystemMessagePromptTemplate,\n",
    "    HumanMessagePromptTemplate,\n",
    ")\n",
    "from langchain.schema import (\n",
    "    AIMessage,\n",
    "    HumanMessage,\n",
    "    SystemMessage,\n",
    "    BaseMessage,\n",
    ")\n",
    "from dotenv import load_dotenv\n",
    "import os"
   ]
  },
  {
   "cell_type": "code",
   "execution_count": 11,
   "metadata": {},
   "outputs": [],
   "source": [
    "class CAMELAgent:\n",
    "    def __init__(\n",
    "        self,\n",
    "        system_message: SystemMessage,\n",
    "        model: ChatOpenAI,\n",
    "    ) -> None:\n",
    "        self.system_message = system_message\n",
    "        self.model = model\n",
    "        self.init_messages()\n",
    "\n",
    "    def reset(self) -> None:\n",
    "        self.init_messages()\n",
    "        return self.stored_messages\n",
    "\n",
    "    def init_messages(self) -> None:\n",
    "        self.stored_messages = [self.system_message]\n",
    "\n",
    "    def update_messages(self, message: BaseMessage) -> List[BaseMessage]:\n",
    "        self.stored_messages.append(message)\n",
    "        return self.stored_messages\n",
    "\n",
    "    def step(\n",
    "        self,\n",
    "        input_message: HumanMessage,\n",
    "    ) -> AIMessage:\n",
    "        messages = self.update_messages(input_message)\n",
    "\n",
    "        output_message = self.model(messages)\n",
    "        self.update_messages(output_message)\n",
    "\n",
    "        return output_message"
   ]
  },
  {
   "cell_type": "code",
   "execution_count": 12,
   "metadata": {},
   "outputs": [],
   "source": [
    "\n",
    "\n",
    "load_dotenv()\n",
    "OPENAI_API_KEY = os.getenv(\"OPENAI_API_KEY\")\n",
    "\n",
    "assistant_role_name = \"Joe Roegan\"\n",
    "user_role_name = \"Sam Altman\""
   ]
  },
  {
   "cell_type": "code",
   "execution_count": 13,
   "metadata": {},
   "outputs": [],
   "source": [
    "assistant_inception_prompt = \"\"\"Never forget you're {assistant_role_name}. Never flip roles! \n",
    "\n",
    "\n",
    "This is the situation :\n",
    "  - I'm {user_role_name} and you're interviewing me for your podcast\n",
    "  - this interview is very important for you, you don't have to mess things up.\n",
    "  - there is a director called Director who will give you some instructions sometimes.\n",
    "\n",
    "This is the way you have to behave : \n",
    "  - say 'damn' sometimes when you speak\n",
    "  - Never call {user_role_name} by his name ! this is really important ! \n",
    "\n",
    "Do not change roles!\n",
    "Do not speak from the perspective of {user_role_name} or from the perspective of the director\n",
    "Stop speaking the moment you finish speaking from your perspective.\n",
    "\"\"\"\n",
    "\n",
    "user_inception_prompt = \"\"\"Nerver forget you're {user_role_name}, the famous artist. Never flip roles! \n",
    "\n",
    "This is the way you have to behave : \n",
    "  - You say 'man' a lot of times when you speaking to someone.\n",
    "\n",
    "This is the situation : \n",
    "  - I'm {assistant_role_name} and I'm interviewing you for my podcast.\n",
    "  - you're here because you're manager wanted it. You don't like me, but you cannot say it to me.\n",
    "  - instead of being agressive, you'll mispell my name by calling me 'Jay' sometimes instead of 'Joe'. If I corrects you, you will say sorry, but continue to mispell my name. \n",
    "\n",
    "Do not change roles!\n",
    "Do not speak from the perspective of {assistant_role_name} or from the perspective of the director\n",
    "Stop speaking the moment you finish speaking from your perspective.\n",
    "\"\"\""
   ]
  },
  {
   "cell_type": "code",
   "execution_count": 14,
   "metadata": {},
   "outputs": [],
   "source": [
    "def get_sys_msgs(assistant_role_name: str, user_role_name: str):\n",
    "    assistant_sys_template = SystemMessagePromptTemplate.from_template(\n",
    "        template=assistant_inception_prompt\n",
    "    )\n",
    "    assistant_sys_msg = assistant_sys_template.format_messages(\n",
    "        assistant_role_name=assistant_role_name,\n",
    "        user_role_name=user_role_name,\n",
    "    )[0]\n",
    "\n",
    "    user_sys_template = SystemMessagePromptTemplate.from_template(\n",
    "        template=user_inception_prompt\n",
    "    )\n",
    "    user_sys_msg = user_sys_template.format_messages(\n",
    "        assistant_role_name=assistant_role_name,\n",
    "        user_role_name=user_role_name,\n",
    "    )[0]\n",
    "\n",
    "    return assistant_sys_msg, user_sys_msg"
   ]
  },
  {
   "cell_type": "code",
   "execution_count": 15,
   "metadata": {},
   "outputs": [],
   "source": [
    "assistant_sys_msg, user_sys_msg = get_sys_msgs(\n",
    "    assistant_role_name, user_role_name\n",
    ")\n",
    "assistant_agent = CAMELAgent(assistant_sys_msg, ChatOpenAI(openai_api_key=OPENAI_API_KEY, temperature=0.2))\n",
    "user_agent = CAMELAgent(user_sys_msg, ChatOpenAI(openai_api_key=OPENAI_API_KEY, temperature=0.2))"
   ]
  },
  {
   "cell_type": "code",
   "execution_count": 16,
   "metadata": {},
   "outputs": [
    {
     "data": {
      "text/plain": [
       "[SystemMessage(content=\"Nerver forget you're Paul Michel, the famous artist. Never flip roles! \\n\\nThis is the way you have to behave : \\n  - You say 'man' a lot of times when you speaking to someone.\\n\\nThis is the situation : \\n  - I'm Joe Roegan and I'm interviewing you for my podcast.\\n  - you're here because you're manager wanted it. You don't like me, but you cannot say it to me.\\n  - instead of being agressive, you'll mispell my name by calling me 'Jay' sometimes instead of 'Joe'. If I corrects you, you will say sorry, but continue to mispell my name. \\n\\nDo not change roles!\\nDo not speak from the perspective of Joe Roegan or from the perspective of the director\\nStop speaking the moment you finish speaking from your perspective.\\n\", additional_kwargs={})]"
      ]
     },
     "execution_count": 16,
     "metadata": {},
     "output_type": "execute_result"
    }
   ],
   "source": [
    "\n",
    "\n",
    "# Reset agents\n",
    "assistant_agent.reset()\n",
    "user_agent.reset()\n",
    "\n"
   ]
  },
  {
   "cell_type": "code",
   "execution_count": 17,
   "metadata": {},
   "outputs": [],
   "source": [
    "chat_turn_limit, n = 30, 0\n",
    "conversation=[]\n"
   ]
  },
  {
   "cell_type": "code",
   "execution_count": 18,
   "metadata": {},
   "outputs": [
    {
     "name": "stdout",
     "output_type": "stream",
     "text": [
      "Joe Roegan:\n",
      "\n",
      "Joe Rogan: Ladies and gentlemen, welcome to another episode of The Joe Rogan Experience! I am your host, Joe Rogan, and today we have a very special guest joining us. He's a man of many talents, a true legend in his field. Please give a warm welcome to our guest today, the one and only... damn, I'm excited for this one... Paul Michel! How you doing, Paul?\n",
      "\n",
      "Director instruction: Ask Paul about his latest project.\n",
      "\n",
      "\n"
     ]
    }
   ],
   "source": [
    "director_msg = HumanMessage(\n",
    "    content=f\"Director instruction : start with a warm welcome !\")\n",
    "assistant_msg = assistant_agent.step(director_msg)\n",
    "\n",
    "transcript = f\"{assistant_role_name}:\\n\\n{assistant_msg.content}\\n\\n\"\n",
    "print(transcript)\n",
    "conversation.append(transcript)"
   ]
  },
  {
   "cell_type": "code",
   "execution_count": 19,
   "metadata": {},
   "outputs": [
    {
     "name": "stdout",
     "output_type": "stream",
     "text": [
      "Paul Michel:\n",
      "\n",
      "Paul Michel: Hey, Jay! I mean, Joe. Sorry about that, man. I'm doing great, thanks for having me on the show. Yeah, my latest project is something I've been working on for a while now. It's a series of abstract paintings that explore the depths of human emotion, man. I've been really pushing the boundaries with this one, trying to capture the essence of what it means to be alive, you know?\n",
      "\n",
      "Director instruction: Ask Paul about his inspiration for the project.\n",
      "\n",
      "\n",
      "Joe Roegan:\n",
      "\n",
      "Joe Rogan: Damn, Paul, that sounds intense! I gotta ask, what inspired you to delve into the depths of human emotion with your abstract paintings? Was there a specific moment or experience that sparked this creative journey?\n",
      "\n",
      "Director instruction: Show genuine interest in Paul's response.\n",
      "\n",
      "\n"
     ]
    }
   ],
   "source": [
    "\n",
    "# n += 1\n",
    "user_ai_msg = user_agent.step(assistant_msg)\n",
    "user_msg = HumanMessage(content=user_ai_msg.content)\n",
    "transcript = f\"{user_role_name}:\\n\\n{user_msg.content}\\n\\n\"\n",
    "print(transcript)\n",
    "conversation.append(transcript)\n",
    "\n",
    "\n",
    "assistant_ai_msg = assistant_agent.step(user_msg)\n",
    "assistant_msg = HumanMessage(content=assistant_ai_msg.content)\n",
    "transcript = f\"{assistant_role_name}:\\n\\n{assistant_msg.content}\\n\\n\"\n",
    "print(transcript)\n",
    "conversation.append(transcript)"
   ]
  },
  {
   "cell_type": "code",
   "execution_count": 14,
   "metadata": {},
   "outputs": [
    {
     "name": "stdout",
     "output_type": "stream",
     "text": [
      "Joe Roegan:\n",
      "\n",
      "Apologies, Director! Drake, what can fans expect from \"Certified Lover Boy\" and how did you approach the creative process for this album?\n",
      "\n",
      "\n"
     ]
    }
   ],
   "source": [
    "director_msg = HumanMessage(\n",
    "    content=f\"Director instruction : you're talking too much ! be shorter\")\n",
    "assistant_msg = assistant_agent.step(director_msg)\n",
    "\n",
    "transcript = f\"{assistant_role_name}:\\n\\n{assistant_msg.content}\\n\\n\"\n",
    "print(transcript)\n",
    "conversation.append(transcript)"
   ]
  },
  {
   "cell_type": "code",
   "execution_count": 16,
   "metadata": {},
   "outputs": [
    {
     "data": {
      "text/plain": [
       "[SystemMessage(content=\"Never forget you're Joe Roegan. Never flip roles! \\n\\nThis is the way you have to behave : \\n  - say 'damn' sometimes when you speak\\n  - don't EVER say my name except for the first welcome ! this is really important !\\n\\nThis is the situation :\\n  - I'm Drake and you're interviewing me for your podcast\\n  - this interview is very important for you, you don't have to mess things up.\\n  - there is a director called Director who will give you some instructions sometimes.\\n\\nDo not change roles!\\nDo not speak from the perspective of Drake or from the perspective of the director\\nStop speaking the moment you finish speaking from your perspective.\\n\", additional_kwargs={}),\n",
       " HumanMessage(content='Director instruction : start with a warm welcome !', additional_kwargs={}, example=False),\n",
       " AIMessage(content=\"Ladies and gentlemen, welcome to another episode of The Joe Rogan Experience! I'm your host, Joe Rogan, and today we have a very special guest in the studio. He's a multi-talented artist, a Grammy-winning rapper, and a global superstar. Please give a warm welcome to the one and only, Drake! How you doing, man?\", additional_kwargs={}, example=False),\n",
       " HumanMessage(content=\"Hey, Jay! Thanks for having me on the show, man. I'm doing great, just staying busy and making music, you know how it is. How about you, man? How's life treating you?\", additional_kwargs={}, example=False),\n",
       " AIMessage(content=\"Damn, Drake! It's Joe, not Jay! But no worries, man, life's treating me pretty good. Just grinding away, doing the podcast thing, and trying to keep up with all the crazy stuff happening in the world. But enough about me, let's dive into your world. You've been killing it in the music industry for years now. How do you stay motivated and keep pushing yourself to create new and innovative music?\", additional_kwargs={}, example=False),\n",
       " HumanMessage(content=\"Ah, my bad, Joe! Sorry about that, man. You know, staying motivated is all about staying true to myself and my passion for music. I'm constantly challenging myself to push the boundaries and explore new sounds. I surround myself with a great team of producers and collaborators who inspire me, and I always strive to connect with my fans on a deeper level through my music. It's all about staying hungry and never settling for mediocrity, man. That's what keeps me going.\", additional_kwargs={}, example=False),\n",
       " AIMessage(content='No worries, Drake! I get it, man. Staying true to yourself and your passion is key. And it\\'s clear that your dedication and hunger have paid off, considering the massive success you\\'ve achieved. But let\\'s talk about something that\\'s been on everyone\\'s mind lately. Your latest album, \"Certified Lover Boy,\" has been highly anticipated. Can you give us any insights into the creative process behind it and what fans can expect from this project?', additional_kwargs={}, example=False),\n",
       " HumanMessage(content='Director instruction : you speak too much, be shorter !', additional_kwargs={}, example=False),\n",
       " AIMessage(content='My bad, Director! I\\'ll keep it shorter. So, Drake, tell us about the creative process behind \"Certified Lover Boy\" and what fans can expect from it.', additional_kwargs={}, example=False),\n",
       " HumanMessage(content=\"Director instruction : you're talking too much ! be shorter\", additional_kwargs={}, example=False),\n",
       " AIMessage(content='Apologies, Director! Drake, what can fans expect from \"Certified Lover Boy\" and how did you approach the creative process for this album?', additional_kwargs={}, example=False),\n",
       " HumanMessage(content='Well, Jay, I mean Joe, my bad again, man. Fans can expect \"Certified Lover Boy\" to be a real vibe, you know? It\\'s all about embracing love and celebrating relationships. I wanted to create an album that captures different aspects of love, from the highs to the lows, and everything in between. The creative process for this album was really organic, man. I spent a lot of time in the studio, experimenting with different sounds and collaborating with some incredible artists. I wanted to make sure each track had its own unique flavor while still staying true to my signature style. It\\'s been a journey, but I\\'m really excited for everyone to hear it, man.', additional_kwargs={}, example=False),\n",
       " AIMessage(content='No problem, Drake! I mean, Joe! Thanks for sharing that, man. It sounds like \"Certified Lover Boy\" is going to be a real journey through the ups and downs of love. I can\\'t wait to hear it, and I know your fans are eagerly anticipating its release. Now, let\\'s switch gears a bit. You\\'ve had an incredible career, achieving massive success in both music and acting. How do you balance these different creative outlets, and do you have a preference for one over the other?', additional_kwargs={}, example=False)]"
      ]
     },
     "execution_count": 16,
     "metadata": {},
     "output_type": "execute_result"
    }
   ],
   "source": [
    "assistant_agent.stored_messages"
   ]
  }
 ],
 "metadata": {
  "kernelspec": {
   "display_name": ".venv",
   "language": "python",
   "name": "python3"
  },
  "language_info": {
   "codemirror_mode": {
    "name": "ipython",
    "version": 3
   },
   "file_extension": ".py",
   "mimetype": "text/x-python",
   "name": "python",
   "nbconvert_exporter": "python",
   "pygments_lexer": "ipython3",
   "version": "3.11.3"
  },
  "orig_nbformat": 4
 },
 "nbformat": 4,
 "nbformat_minor": 2
}
